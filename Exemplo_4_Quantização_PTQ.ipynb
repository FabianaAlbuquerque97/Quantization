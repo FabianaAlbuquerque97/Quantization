{
  "nbformat": 4,
  "nbformat_minor": 0,
  "metadata": {
    "colab": {
      "provenance": [],
      "authorship_tag": "ABX9TyNoTveFsac8eYh4SHwkrdvt",
      "include_colab_link": true
    },
    "kernelspec": {
      "name": "python3",
      "display_name": "Python 3"
    },
    "language_info": {
      "name": "python"
    }
  },
  "cells": [
    {
      "cell_type": "markdown",
      "metadata": {
        "id": "view-in-github",
        "colab_type": "text"
      },
      "source": [
        "<a href=\"https://colab.research.google.com/github/FabianaAlbuquerque97/Quantization/blob/main/Exemplo_4_Quantiza%C3%A7%C3%A3o_PTQ.ipynb\" target=\"_parent\"><img src=\"https://colab.research.google.com/assets/colab-badge.svg\" alt=\"Open In Colab\"/></a>"
      ]
    },
    {
      "cell_type": "markdown",
      "source": [
        "# **Quantização PTQ**\n",
        "\n",
        "Fabiana de Albuquerque"
      ],
      "metadata": {
        "id": "k3xbALBFjzko"
      }
    },
    {
      "cell_type": "code",
      "execution_count": null,
      "metadata": {
        "id": "IRklpc_TEavB"
      },
      "outputs": [],
      "source": [
        "import tensorflow as tf"
      ]
    },
    {
      "cell_type": "code",
      "source": [
        "# Carregar um modelo pré-treinado (por exemplo, um modelo do TensorFlow Hub)\n",
        "model = tf.keras.applications.MobileNetV2(weights='imagenet', input_shape=(224, 224, 3))\n"
      ],
      "metadata": {
        "colab": {
          "base_uri": "https://localhost:8080/"
        },
        "id": "WF7CBPxGEnv-",
        "outputId": "3c45fc45-f1e6-4ca3-ea22-1ffff9af7bef"
      },
      "execution_count": null,
      "outputs": [
        {
          "output_type": "stream",
          "name": "stdout",
          "text": [
            "Downloading data from https://storage.googleapis.com/tensorflow/keras-applications/mobilenet_v2/mobilenet_v2_weights_tf_dim_ordering_tf_kernels_1.0_224.h5\n",
            "\u001b[1m14536120/14536120\u001b[0m \u001b[32m━━━━━━━━━━━━━━━━━━━━\u001b[0m\u001b[37m\u001b[0m \u001b[1m0s\u001b[0m 0us/step\n"
          ]
        }
      ]
    },
    {
      "cell_type": "code",
      "source": [
        "# Converter o modelo para um formato compatível com a quantização - Conversão para TFLite\n",
        "converter = tf.lite.TFLiteConverter.from_keras_model(model)"
      ],
      "metadata": {
        "id": "cU7KZ8EsEy0k"
      },
      "execution_count": null,
      "outputs": []
    },
    {
      "cell_type": "code",
      "source": [
        "# Configurar a quantização\n",
        "converter.optimizations = [tf.lite.Optimize.DEFAULT]\n",
        "\n",
        "# Definir um conjunto de dados de calibração\n",
        "def representative_dataset_gen():\n",
        "    for _ in range(100):\n",
        "        # Aqui você deve fornecer dados de entrada para calibração\n",
        "        yield [tf.random.normal([1, 224, 224, 3])]\n",
        "\n",
        "converter.representative_dataset = representative_dataset_gen\n"
      ],
      "metadata": {
        "id": "OtR4cAIwFAmT"
      },
      "execution_count": null,
      "outputs": []
    },
    {
      "cell_type": "code",
      "source": [
        "# Converter o modelo\n",
        "tflite_model = converter.convert()"
      ],
      "metadata": {
        "colab": {
          "base_uri": "https://localhost:8080/"
        },
        "id": "wTqjiG_5FIlC",
        "outputId": "99c26bdc-bd81-49a4-de6f-dfaafb3faa01"
      },
      "execution_count": null,
      "outputs": [
        {
          "output_type": "stream",
          "name": "stdout",
          "text": [
            "Saved artifact at '/tmp/tmpivjy6hr5'. The following endpoints are available:\n",
            "\n",
            "* Endpoint 'serve'\n",
            "  args_0 (POSITIONAL_ONLY): TensorSpec(shape=(None, 224, 224, 3), dtype=tf.float32, name='keras_tensor')\n",
            "Output Type:\n",
            "  TensorSpec(shape=(None, 1000), dtype=tf.float32, name=None)\n",
            "Captures:\n",
            "  138800101675600: TensorSpec(shape=(), dtype=tf.resource, name=None)\n",
            "  138800101678672: TensorSpec(shape=(), dtype=tf.resource, name=None)\n",
            "  138800101680592: TensorSpec(shape=(), dtype=tf.resource, name=None)\n",
            "  138800101680208: TensorSpec(shape=(), dtype=tf.resource, name=None)\n",
            "  138800101679056: TensorSpec(shape=(), dtype=tf.resource, name=None)\n",
            "  138800101680784: TensorSpec(shape=(), dtype=tf.resource, name=None)\n",
            "  138800101679824: TensorSpec(shape=(), dtype=tf.resource, name=None)\n",
            "  138800101676368: TensorSpec(shape=(), dtype=tf.resource, name=None)\n",
            "  138800101680976: TensorSpec(shape=(), dtype=tf.resource, name=None)\n",
            "  138800101678864: TensorSpec(shape=(), dtype=tf.resource, name=None)\n",
            "  138800101681360: TensorSpec(shape=(), dtype=tf.resource, name=None)\n",
            "  138800101682896: TensorSpec(shape=(), dtype=tf.resource, name=None)\n",
            "  138800101679632: TensorSpec(shape=(), dtype=tf.resource, name=None)\n",
            "  138800101679440: TensorSpec(shape=(), dtype=tf.resource, name=None)\n",
            "  138800101681936: TensorSpec(shape=(), dtype=tf.resource, name=None)\n",
            "  138800101684816: TensorSpec(shape=(), dtype=tf.resource, name=None)\n",
            "  138800101687120: TensorSpec(shape=(), dtype=tf.resource, name=None)\n",
            "  138800101686160: TensorSpec(shape=(), dtype=tf.resource, name=None)\n",
            "  138800101685776: TensorSpec(shape=(), dtype=tf.resource, name=None)\n",
            "  138800101684624: TensorSpec(shape=(), dtype=tf.resource, name=None)\n",
            "  138800101686352: TensorSpec(shape=(), dtype=tf.resource, name=None)\n",
            "  138800098608144: TensorSpec(shape=(), dtype=tf.resource, name=None)\n",
            "  138800098607952: TensorSpec(shape=(), dtype=tf.resource, name=None)\n",
            "  138800098608336: TensorSpec(shape=(), dtype=tf.resource, name=None)\n",
            "  138800098607184: TensorSpec(shape=(), dtype=tf.resource, name=None)\n",
            "  138800098610448: TensorSpec(shape=(), dtype=tf.resource, name=None)\n",
            "  138800098610832: TensorSpec(shape=(), dtype=tf.resource, name=None)\n",
            "  138800098611216: TensorSpec(shape=(), dtype=tf.resource, name=None)\n",
            "  138800098611024: TensorSpec(shape=(), dtype=tf.resource, name=None)\n",
            "  138800098607760: TensorSpec(shape=(), dtype=tf.resource, name=None)\n",
            "  138800098612368: TensorSpec(shape=(), dtype=tf.resource, name=None)\n",
            "  138800098612752: TensorSpec(shape=(), dtype=tf.resource, name=None)\n",
            "  138800098613136: TensorSpec(shape=(), dtype=tf.resource, name=None)\n",
            "  138800098612944: TensorSpec(shape=(), dtype=tf.resource, name=None)\n",
            "  138800098609296: TensorSpec(shape=(), dtype=tf.resource, name=None)\n",
            "  138800098614288: TensorSpec(shape=(), dtype=tf.resource, name=None)\n",
            "  138800098614672: TensorSpec(shape=(), dtype=tf.resource, name=None)\n",
            "  138800098615056: TensorSpec(shape=(), dtype=tf.resource, name=None)\n",
            "  138800098614864: TensorSpec(shape=(), dtype=tf.resource, name=None)\n",
            "  138800098610064: TensorSpec(shape=(), dtype=tf.resource, name=None)\n",
            "  138800098611984: TensorSpec(shape=(), dtype=tf.resource, name=None)\n",
            "  138800098616784: TensorSpec(shape=(), dtype=tf.resource, name=None)\n",
            "  138800098617168: TensorSpec(shape=(), dtype=tf.resource, name=None)\n",
            "  138800098616976: TensorSpec(shape=(), dtype=tf.resource, name=None)\n",
            "  138800098613520: TensorSpec(shape=(), dtype=tf.resource, name=None)\n",
            "  138800098615824: TensorSpec(shape=(), dtype=tf.resource, name=None)\n",
            "  138800098618896: TensorSpec(shape=(), dtype=tf.resource, name=None)\n",
            "  138800098619280: TensorSpec(shape=(), dtype=tf.resource, name=None)\n",
            "  138800098619088: TensorSpec(shape=(), dtype=tf.resource, name=None)\n",
            "  138800098616208: TensorSpec(shape=(), dtype=tf.resource, name=None)\n",
            "  138800098620432: TensorSpec(shape=(), dtype=tf.resource, name=None)\n",
            "  138800098620816: TensorSpec(shape=(), dtype=tf.resource, name=None)\n",
            "  138800098621200: TensorSpec(shape=(), dtype=tf.resource, name=None)\n",
            "  138800098621008: TensorSpec(shape=(), dtype=tf.resource, name=None)\n",
            "  138800098617936: TensorSpec(shape=(), dtype=tf.resource, name=None)\n",
            "  138800098622352: TensorSpec(shape=(), dtype=tf.resource, name=None)\n",
            "  138800098621968: TensorSpec(shape=(), dtype=tf.resource, name=None)\n",
            "  138800098620048: TensorSpec(shape=(), dtype=tf.resource, name=None)\n",
            "  138800098622928: TensorSpec(shape=(), dtype=tf.resource, name=None)\n",
            "  138800098618512: TensorSpec(shape=(), dtype=tf.resource, name=None)\n",
            "  138800098621584: TensorSpec(shape=(), dtype=tf.resource, name=None)\n",
            "  138800098804944: TensorSpec(shape=(), dtype=tf.resource, name=None)\n",
            "  138800098804368: TensorSpec(shape=(), dtype=tf.resource, name=None)\n",
            "  138800098805136: TensorSpec(shape=(), dtype=tf.resource, name=None)\n",
            "  138800098804176: TensorSpec(shape=(), dtype=tf.resource, name=None)\n",
            "  138800098806480: TensorSpec(shape=(), dtype=tf.resource, name=None)\n",
            "  138800098806864: TensorSpec(shape=(), dtype=tf.resource, name=None)\n",
            "  138800098807248: TensorSpec(shape=(), dtype=tf.resource, name=None)\n",
            "  138800098807056: TensorSpec(shape=(), dtype=tf.resource, name=None)\n",
            "  138800098805328: TensorSpec(shape=(), dtype=tf.resource, name=None)\n",
            "  138800098808400: TensorSpec(shape=(), dtype=tf.resource, name=None)\n",
            "  138800098808784: TensorSpec(shape=(), dtype=tf.resource, name=None)\n",
            "  138800098809168: TensorSpec(shape=(), dtype=tf.resource, name=None)\n",
            "  138800098808976: TensorSpec(shape=(), dtype=tf.resource, name=None)\n",
            "  138800098803984: TensorSpec(shape=(), dtype=tf.resource, name=None)\n",
            "  138800098810320: TensorSpec(shape=(), dtype=tf.resource, name=None)\n",
            "  138800098810704: TensorSpec(shape=(), dtype=tf.resource, name=None)\n",
            "  138800098811088: TensorSpec(shape=(), dtype=tf.resource, name=None)\n",
            "  138800098810896: TensorSpec(shape=(), dtype=tf.resource, name=None)\n",
            "  138800098806096: TensorSpec(shape=(), dtype=tf.resource, name=None)\n",
            "  138800098812240: TensorSpec(shape=(), dtype=tf.resource, name=None)\n",
            "  138800098812624: TensorSpec(shape=(), dtype=tf.resource, name=None)\n",
            "  138800098813008: TensorSpec(shape=(), dtype=tf.resource, name=None)\n",
            "  138800098812816: TensorSpec(shape=(), dtype=tf.resource, name=None)\n",
            "  138800098808016: TensorSpec(shape=(), dtype=tf.resource, name=None)\n",
            "  138800098814160: TensorSpec(shape=(), dtype=tf.resource, name=None)\n",
            "  138800098814544: TensorSpec(shape=(), dtype=tf.resource, name=None)\n",
            "  138800098814928: TensorSpec(shape=(), dtype=tf.resource, name=None)\n",
            "  138800098814736: TensorSpec(shape=(), dtype=tf.resource, name=None)\n",
            "  138800098809936: TensorSpec(shape=(), dtype=tf.resource, name=None)\n",
            "  138800098816080: TensorSpec(shape=(), dtype=tf.resource, name=None)\n",
            "  138800098816464: TensorSpec(shape=(), dtype=tf.resource, name=None)\n",
            "  138800098816848: TensorSpec(shape=(), dtype=tf.resource, name=None)\n",
            "  138800098816656: TensorSpec(shape=(), dtype=tf.resource, name=None)\n",
            "  138800098811856: TensorSpec(shape=(), dtype=tf.resource, name=None)\n",
            "  138800098818000: TensorSpec(shape=(), dtype=tf.resource, name=None)\n",
            "  138800098819536: TensorSpec(shape=(), dtype=tf.resource, name=None)\n",
            "  138800098815696: TensorSpec(shape=(), dtype=tf.resource, name=None)\n",
            "  138800098819152: TensorSpec(shape=(), dtype=tf.resource, name=None)\n",
            "  138800098819920: TensorSpec(shape=(), dtype=tf.resource, name=None)\n",
            "  138800098804560: TensorSpec(shape=(), dtype=tf.resource, name=None)\n",
            "  138800098818576: TensorSpec(shape=(), dtype=tf.resource, name=None)\n",
            "  138800094610064: TensorSpec(shape=(), dtype=tf.resource, name=None)\n",
            "  138800098818768: TensorSpec(shape=(), dtype=tf.resource, name=None)\n",
            "  138800098817616: TensorSpec(shape=(), dtype=tf.resource, name=None)\n",
            "  138800094611216: TensorSpec(shape=(), dtype=tf.resource, name=None)\n",
            "  138800094611600: TensorSpec(shape=(), dtype=tf.resource, name=None)\n",
            "  138800094611984: TensorSpec(shape=(), dtype=tf.resource, name=None)\n",
            "  138800094611792: TensorSpec(shape=(), dtype=tf.resource, name=None)\n",
            "  138800094610448: TensorSpec(shape=(), dtype=tf.resource, name=None)\n",
            "  138800094613136: TensorSpec(shape=(), dtype=tf.resource, name=None)\n",
            "  138800094613520: TensorSpec(shape=(), dtype=tf.resource, name=None)\n",
            "  138800094613904: TensorSpec(shape=(), dtype=tf.resource, name=None)\n",
            "  138800094613712: TensorSpec(shape=(), dtype=tf.resource, name=None)\n",
            "  138800094609488: TensorSpec(shape=(), dtype=tf.resource, name=None)\n",
            "  138800094615056: TensorSpec(shape=(), dtype=tf.resource, name=None)\n",
            "  138800094615440: TensorSpec(shape=(), dtype=tf.resource, name=None)\n",
            "  138800094615824: TensorSpec(shape=(), dtype=tf.resource, name=None)\n",
            "  138800094615632: TensorSpec(shape=(), dtype=tf.resource, name=None)\n",
            "  138800094610832: TensorSpec(shape=(), dtype=tf.resource, name=None)\n",
            "  138800094616976: TensorSpec(shape=(), dtype=tf.resource, name=None)\n",
            "  138800094617360: TensorSpec(shape=(), dtype=tf.resource, name=None)\n",
            "  138800094617744: TensorSpec(shape=(), dtype=tf.resource, name=None)\n",
            "  138800094617552: TensorSpec(shape=(), dtype=tf.resource, name=None)\n",
            "  138800094612752: TensorSpec(shape=(), dtype=tf.resource, name=None)\n",
            "  138800094618896: TensorSpec(shape=(), dtype=tf.resource, name=None)\n",
            "  138800094619280: TensorSpec(shape=(), dtype=tf.resource, name=None)\n",
            "  138800094619664: TensorSpec(shape=(), dtype=tf.resource, name=None)\n",
            "  138800094619472: TensorSpec(shape=(), dtype=tf.resource, name=None)\n",
            "  138800094614672: TensorSpec(shape=(), dtype=tf.resource, name=None)\n",
            "  138800094620816: TensorSpec(shape=(), dtype=tf.resource, name=None)\n",
            "  138800094621200: TensorSpec(shape=(), dtype=tf.resource, name=None)\n",
            "  138800094621584: TensorSpec(shape=(), dtype=tf.resource, name=None)\n",
            "  138800094621392: TensorSpec(shape=(), dtype=tf.resource, name=None)\n",
            "  138800094616592: TensorSpec(shape=(), dtype=tf.resource, name=None)\n",
            "  138800094622736: TensorSpec(shape=(), dtype=tf.resource, name=None)\n",
            "  138800094623120: TensorSpec(shape=(), dtype=tf.resource, name=None)\n",
            "  138800094623504: TensorSpec(shape=(), dtype=tf.resource, name=None)\n",
            "  138800094623312: TensorSpec(shape=(), dtype=tf.resource, name=None)\n",
            "  138800094618512: TensorSpec(shape=(), dtype=tf.resource, name=None)\n",
            "  138800094624656: TensorSpec(shape=(), dtype=tf.resource, name=None)\n",
            "  138800094624272: TensorSpec(shape=(), dtype=tf.resource, name=None)\n",
            "  138800094622352: TensorSpec(shape=(), dtype=tf.resource, name=None)\n",
            "  138800094625232: TensorSpec(shape=(), dtype=tf.resource, name=None)\n",
            "  138800094620432: TensorSpec(shape=(), dtype=tf.resource, name=None)\n",
            "  138800094623888: TensorSpec(shape=(), dtype=tf.resource, name=None)\n",
            "  138800094987472: TensorSpec(shape=(), dtype=tf.resource, name=None)\n",
            "  138800094986512: TensorSpec(shape=(), dtype=tf.resource, name=None)\n",
            "  138800094987280: TensorSpec(shape=(), dtype=tf.resource, name=None)\n",
            "  138800094986320: TensorSpec(shape=(), dtype=tf.resource, name=None)\n",
            "  138800094989008: TensorSpec(shape=(), dtype=tf.resource, name=None)\n",
            "  138800094989392: TensorSpec(shape=(), dtype=tf.resource, name=None)\n",
            "  138800094989776: TensorSpec(shape=(), dtype=tf.resource, name=None)\n",
            "  138800094989584: TensorSpec(shape=(), dtype=tf.resource, name=None)\n",
            "  138800094986704: TensorSpec(shape=(), dtype=tf.resource, name=None)\n",
            "  138800094990928: TensorSpec(shape=(), dtype=tf.resource, name=None)\n",
            "  138800094991312: TensorSpec(shape=(), dtype=tf.resource, name=None)\n",
            "  138800094991696: TensorSpec(shape=(), dtype=tf.resource, name=None)\n",
            "  138800094991504: TensorSpec(shape=(), dtype=tf.resource, name=None)\n",
            "  138800094987856: TensorSpec(shape=(), dtype=tf.resource, name=None)\n",
            "  138800094992848: TensorSpec(shape=(), dtype=tf.resource, name=None)\n",
            "  138800094993232: TensorSpec(shape=(), dtype=tf.resource, name=None)\n",
            "  138800094993616: TensorSpec(shape=(), dtype=tf.resource, name=None)\n",
            "  138800094993424: TensorSpec(shape=(), dtype=tf.resource, name=None)\n",
            "  138800094988624: TensorSpec(shape=(), dtype=tf.resource, name=None)\n",
            "  138800094994768: TensorSpec(shape=(), dtype=tf.resource, name=None)\n",
            "  138800094995152: TensorSpec(shape=(), dtype=tf.resource, name=None)\n",
            "  138800094995536: TensorSpec(shape=(), dtype=tf.resource, name=None)\n",
            "  138800094995344: TensorSpec(shape=(), dtype=tf.resource, name=None)\n",
            "  138800094990544: TensorSpec(shape=(), dtype=tf.resource, name=None)\n",
            "  138800094996688: TensorSpec(shape=(), dtype=tf.resource, name=None)\n",
            "  138800094997072: TensorSpec(shape=(), dtype=tf.resource, name=None)\n",
            "  138800094997456: TensorSpec(shape=(), dtype=tf.resource, name=None)\n",
            "  138800094997264: TensorSpec(shape=(), dtype=tf.resource, name=None)\n",
            "  138800094992464: TensorSpec(shape=(), dtype=tf.resource, name=None)\n",
            "  138800094998608: TensorSpec(shape=(), dtype=tf.resource, name=None)\n",
            "  138800094998992: TensorSpec(shape=(), dtype=tf.resource, name=None)\n",
            "  138800094999376: TensorSpec(shape=(), dtype=tf.resource, name=None)\n",
            "  138800094999184: TensorSpec(shape=(), dtype=tf.resource, name=None)\n",
            "  138800094994384: TensorSpec(shape=(), dtype=tf.resource, name=None)\n",
            "  138800095000528: TensorSpec(shape=(), dtype=tf.resource, name=None)\n",
            "  138800095000912: TensorSpec(shape=(), dtype=tf.resource, name=None)\n",
            "  138800095001296: TensorSpec(shape=(), dtype=tf.resource, name=None)\n",
            "  138800095001104: TensorSpec(shape=(), dtype=tf.resource, name=None)\n",
            "  138800094996304: TensorSpec(shape=(), dtype=tf.resource, name=None)\n",
            "  138800095002448: TensorSpec(shape=(), dtype=tf.resource, name=None)\n",
            "  138800094998224: TensorSpec(shape=(), dtype=tf.resource, name=None)\n",
            "  138800051322960: TensorSpec(shape=(), dtype=tf.resource, name=None)\n",
            "  138800095002064: TensorSpec(shape=(), dtype=tf.resource, name=None)\n",
            "  138800095000144: TensorSpec(shape=(), dtype=tf.resource, name=None)\n",
            "  138800051324688: TensorSpec(shape=(), dtype=tf.resource, name=None)\n",
            "  138800051325072: TensorSpec(shape=(), dtype=tf.resource, name=None)\n",
            "  138800051325456: TensorSpec(shape=(), dtype=tf.resource, name=None)\n",
            "  138800051325264: TensorSpec(shape=(), dtype=tf.resource, name=None)\n",
            "  138800051323920: TensorSpec(shape=(), dtype=tf.resource, name=None)\n",
            "  138800051326608: TensorSpec(shape=(), dtype=tf.resource, name=None)\n",
            "  138800051326992: TensorSpec(shape=(), dtype=tf.resource, name=None)\n",
            "  138800051327376: TensorSpec(shape=(), dtype=tf.resource, name=None)\n",
            "  138800051327184: TensorSpec(shape=(), dtype=tf.resource, name=None)\n",
            "  138800051323344: TensorSpec(shape=(), dtype=tf.resource, name=None)\n",
            "  138800051328528: TensorSpec(shape=(), dtype=tf.resource, name=None)\n",
            "  138800051328912: TensorSpec(shape=(), dtype=tf.resource, name=None)\n",
            "  138800051329296: TensorSpec(shape=(), dtype=tf.resource, name=None)\n",
            "  138800051329104: TensorSpec(shape=(), dtype=tf.resource, name=None)\n",
            "  138800051324304: TensorSpec(shape=(), dtype=tf.resource, name=None)\n",
            "  138800051330448: TensorSpec(shape=(), dtype=tf.resource, name=None)\n",
            "  138800051330832: TensorSpec(shape=(), dtype=tf.resource, name=None)\n",
            "  138800051331216: TensorSpec(shape=(), dtype=tf.resource, name=None)\n",
            "  138800051331024: TensorSpec(shape=(), dtype=tf.resource, name=None)\n",
            "  138800051326224: TensorSpec(shape=(), dtype=tf.resource, name=None)\n",
            "  138800051332368: TensorSpec(shape=(), dtype=tf.resource, name=None)\n",
            "  138800051332752: TensorSpec(shape=(), dtype=tf.resource, name=None)\n",
            "  138800051333136: TensorSpec(shape=(), dtype=tf.resource, name=None)\n",
            "  138800051332944: TensorSpec(shape=(), dtype=tf.resource, name=None)\n",
            "  138800051328144: TensorSpec(shape=(), dtype=tf.resource, name=None)\n",
            "  138800051334288: TensorSpec(shape=(), dtype=tf.resource, name=None)\n",
            "  138800051334672: TensorSpec(shape=(), dtype=tf.resource, name=None)\n",
            "  138800051335056: TensorSpec(shape=(), dtype=tf.resource, name=None)\n",
            "  138800051334864: TensorSpec(shape=(), dtype=tf.resource, name=None)\n",
            "  138800051330064: TensorSpec(shape=(), dtype=tf.resource, name=None)\n",
            "  138800051336208: TensorSpec(shape=(), dtype=tf.resource, name=None)\n",
            "  138800051336592: TensorSpec(shape=(), dtype=tf.resource, name=None)\n",
            "  138800051336976: TensorSpec(shape=(), dtype=tf.resource, name=None)\n",
            "  138800051336784: TensorSpec(shape=(), dtype=tf.resource, name=None)\n",
            "  138800051331984: TensorSpec(shape=(), dtype=tf.resource, name=None)\n",
            "  138800051338128: TensorSpec(shape=(), dtype=tf.resource, name=None)\n",
            "  138800051337744: TensorSpec(shape=(), dtype=tf.resource, name=None)\n",
            "  138800051335824: TensorSpec(shape=(), dtype=tf.resource, name=None)\n",
            "  138800051338704: TensorSpec(shape=(), dtype=tf.resource, name=None)\n",
            "  138800051333904: TensorSpec(shape=(), dtype=tf.resource, name=None)\n",
            "  138800051337360: TensorSpec(shape=(), dtype=tf.resource, name=None)\n",
            "  138800051717328: TensorSpec(shape=(), dtype=tf.resource, name=None)\n",
            "  138800051716368: TensorSpec(shape=(), dtype=tf.resource, name=None)\n",
            "  138800051717136: TensorSpec(shape=(), dtype=tf.resource, name=None)\n",
            "  138800051716176: TensorSpec(shape=(), dtype=tf.resource, name=None)\n",
            "  138800051718864: TensorSpec(shape=(), dtype=tf.resource, name=None)\n",
            "  138800051719248: TensorSpec(shape=(), dtype=tf.resource, name=None)\n",
            "  138800051719632: TensorSpec(shape=(), dtype=tf.resource, name=None)\n",
            "  138800051719440: TensorSpec(shape=(), dtype=tf.resource, name=None)\n",
            "  138800051716560: TensorSpec(shape=(), dtype=tf.resource, name=None)\n",
            "  138800051720784: TensorSpec(shape=(), dtype=tf.resource, name=None)\n",
            "  138800051721168: TensorSpec(shape=(), dtype=tf.resource, name=None)\n",
            "  138800051721552: TensorSpec(shape=(), dtype=tf.resource, name=None)\n",
            "  138800051721360: TensorSpec(shape=(), dtype=tf.resource, name=None)\n",
            "  138800051717712: TensorSpec(shape=(), dtype=tf.resource, name=None)\n",
            "  138800051722704: TensorSpec(shape=(), dtype=tf.resource, name=None)\n",
            "  138800051723088: TensorSpec(shape=(), dtype=tf.resource, name=None)\n",
            "  138800051723472: TensorSpec(shape=(), dtype=tf.resource, name=None)\n",
            "  138800051723280: TensorSpec(shape=(), dtype=tf.resource, name=None)\n",
            "  138800051718480: TensorSpec(shape=(), dtype=tf.resource, name=None)\n",
            "  138800051724624: TensorSpec(shape=(), dtype=tf.resource, name=None)\n",
            "  138800051725008: TensorSpec(shape=(), dtype=tf.resource, name=None)\n",
            "  138800051725392: TensorSpec(shape=(), dtype=tf.resource, name=None)\n",
            "  138800051725200: TensorSpec(shape=(), dtype=tf.resource, name=None)\n",
            "  138800051720400: TensorSpec(shape=(), dtype=tf.resource, name=None)\n",
            "  138800051726544: TensorSpec(shape=(), dtype=tf.resource, name=None)\n",
            "  138800051726928: TensorSpec(shape=(), dtype=tf.resource, name=None)\n",
            "  138800051727312: TensorSpec(shape=(), dtype=tf.resource, name=None)\n",
            "  138800051727120: TensorSpec(shape=(), dtype=tf.resource, name=None)\n",
            "  138800051722320: TensorSpec(shape=(), dtype=tf.resource, name=None)\n",
            "  138800051728464: TensorSpec(shape=(), dtype=tf.resource, name=None)\n",
            "  138800051729040: TensorSpec(shape=(), dtype=tf.resource, name=None)\n"
          ]
        },
        {
          "output_type": "stream",
          "name": "stderr",
          "text": [
            "/usr/local/lib/python3.11/dist-packages/tensorflow/lite/python/convert.py:997: UserWarning: Statistics for quantized inputs were expected, but not specified; continuing anyway.\n",
            "  warnings.warn(\n"
          ]
        }
      ]
    },
    {
      "cell_type": "code",
      "source": [
        "# Salvar o modelo quantizado\n",
        "with open('model_quantized.tflite', 'wb') as f:\n",
        "    f.write(tflite_model)\n",
        "\n",
        "print(\"Modelo quantizado salvo como 'model_quantized.tflite'\")"
      ],
      "metadata": {
        "colab": {
          "base_uri": "https://localhost:8080/"
        },
        "id": "xQN40mQ7FNP8",
        "outputId": "29624d6e-bc87-43de-ec6c-04b9c3ae2993"
      },
      "execution_count": null,
      "outputs": [
        {
          "output_type": "stream",
          "name": "stdout",
          "text": [
            "Modelo quantizado salvo como 'model_quantized.tflite'\n"
          ]
        }
      ]
    }
  ]
}