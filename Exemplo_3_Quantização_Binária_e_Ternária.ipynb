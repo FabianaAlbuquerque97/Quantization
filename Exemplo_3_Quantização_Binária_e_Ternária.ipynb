{
  "nbformat": 4,
  "nbformat_minor": 0,
  "metadata": {
    "colab": {
      "provenance": [],
      "authorship_tag": "ABX9TyPqKR0Ugg+s0Y4ZW/ESCkYG",
      "include_colab_link": true
    },
    "kernelspec": {
      "name": "python3",
      "display_name": "Python 3"
    },
    "language_info": {
      "name": "python"
    }
  },
  "cells": [
    {
      "cell_type": "markdown",
      "metadata": {
        "id": "view-in-github",
        "colab_type": "text"
      },
      "source": [
        "<a href=\"https://colab.research.google.com/github/FabianaAlbuquerque97/Quantization/blob/main/Exemplo_3_Quantiza%C3%A7%C3%A3o_Bin%C3%A1ria_e_Tern%C3%A1ria.ipynb\" target=\"_parent\"><img src=\"https://colab.research.google.com/assets/colab-badge.svg\" alt=\"Open In Colab\"/></a>"
      ]
    },
    {
      "cell_type": "markdown",
      "source": [
        "# **Quantização Binária e Ternária**\n",
        "\n",
        "Fabiana de Albuquerque"
      ],
      "metadata": {
        "id": "7gSV0Ef-lSLu"
      }
    },
    {
      "cell_type": "code",
      "execution_count": null,
      "metadata": {
        "id": "EuT7hSCyN4xu"
      },
      "outputs": [],
      "source": [
        "import torch\n",
        "import torch.nn as nn\n",
        "import torch.optim as optim\n",
        "import torchvision\n",
        "import torchvision.transforms as transforms"
      ]
    },
    {
      "cell_type": "code",
      "source": [
        "# Definindo um modelo simples de rede neural convolucional (CNN)\n",
        "class SimpleCNN(nn.Module):\n",
        "    def __init__(self):\n",
        "        super(SimpleCNN, self).__init__()\n",
        "        self.conv1 = nn.Conv2d(1, 32, kernel_size=3, stride=1, padding=1)\n",
        "        self.conv2 = nn.Conv2d(32, 64, kernel_size=3, stride=1, padding=1)\n",
        "        self.fc1 = nn.Linear(64 * 7 * 7, 128)\n",
        "        self.fc2 = nn.Linear(128, 10)\n",
        "\n",
        "    def forward(self, x):\n",
        "        x = nn.functional.relu(self.conv1(x))\n",
        "        x = nn.functional.max_pool2d(x, 2)\n",
        "        x = nn.functional.relu(self.conv2(x))\n",
        "        x = nn.functional.max_pool2d(x, 2)\n",
        "        x = x.view(-1, 64 * 7 * 7)\n",
        "        x = nn.functional.relu(self.fc1(x))\n",
        "        x = self.fc2(x)\n",
        "        return x\n"
      ],
      "metadata": {
        "id": "sQiecE2MPxpu"
      },
      "execution_count": null,
      "outputs": []
    },
    {
      "cell_type": "code",
      "source": [
        "# Função de quantização binária (Usa a função torch.sign() para converter os valores em -1 e 1.)\n",
        "def binary_quantization(tensor):\n",
        "    return torch.sign(tensor)"
      ],
      "metadata": {
        "id": "UeWIU-o9QBFs"
      },
      "execution_count": null,
      "outputs": []
    },
    {
      "cell_type": "code",
      "source": [
        "# Função de quantização ternária (Usa torch.where() para converter os valores em -1, 0 e 1.)\n",
        "def ternary_quantization(tensor):\n",
        "    return torch.where(tensor > 0.5, torch.tensor(1.0), torch.where(tensor < -0.5, torch.tensor(-1.0), torch.tensor(0.0)))\n"
      ],
      "metadata": {
        "id": "MyADU4lnQKnj"
      },
      "execution_count": null,
      "outputs": []
    },
    {
      "cell_type": "code",
      "source": [
        "# Preparando os dados MNIST\n",
        "transform = transforms.Compose([transforms.ToTensor(), transforms.Normalize((0.5,), (0.5,))])\n",
        "trainset = torchvision.datasets.MNIST(root='./data', train=True, download=True, transform=transform)\n",
        "trainloader = torch.utils.data.DataLoader(trainset, batch_size=64, shuffle=True)\n"
      ],
      "metadata": {
        "colab": {
          "base_uri": "https://localhost:8080/"
        },
        "id": "5EZJCVI0QT4v",
        "outputId": "8b7c044f-1550-46b1-c1ee-01097c43e945"
      },
      "execution_count": null,
      "outputs": [
        {
          "output_type": "stream",
          "name": "stdout",
          "text": [
            "Downloading http://yann.lecun.com/exdb/mnist/train-images-idx3-ubyte.gz\n",
            "Failed to download (trying next):\n",
            "HTTP Error 404: Not Found\n",
            "\n",
            "Downloading https://ossci-datasets.s3.amazonaws.com/mnist/train-images-idx3-ubyte.gz\n",
            "Downloading https://ossci-datasets.s3.amazonaws.com/mnist/train-images-idx3-ubyte.gz to ./data/MNIST/raw/train-images-idx3-ubyte.gz\n"
          ]
        },
        {
          "output_type": "stream",
          "name": "stderr",
          "text": [
            "100%|██████████| 9.91M/9.91M [00:00<00:00, 15.9MB/s]\n"
          ]
        },
        {
          "output_type": "stream",
          "name": "stdout",
          "text": [
            "Extracting ./data/MNIST/raw/train-images-idx3-ubyte.gz to ./data/MNIST/raw\n",
            "\n",
            "Downloading http://yann.lecun.com/exdb/mnist/train-labels-idx1-ubyte.gz\n",
            "Failed to download (trying next):\n",
            "HTTP Error 404: Not Found\n",
            "\n",
            "Downloading https://ossci-datasets.s3.amazonaws.com/mnist/train-labels-idx1-ubyte.gz\n",
            "Downloading https://ossci-datasets.s3.amazonaws.com/mnist/train-labels-idx1-ubyte.gz to ./data/MNIST/raw/train-labels-idx1-ubyte.gz\n"
          ]
        },
        {
          "output_type": "stream",
          "name": "stderr",
          "text": [
            "100%|██████████| 28.9k/28.9k [00:00<00:00, 484kB/s]\n"
          ]
        },
        {
          "output_type": "stream",
          "name": "stdout",
          "text": [
            "Extracting ./data/MNIST/raw/train-labels-idx1-ubyte.gz to ./data/MNIST/raw\n",
            "\n",
            "Downloading http://yann.lecun.com/exdb/mnist/t10k-images-idx3-ubyte.gz\n",
            "Failed to download (trying next):\n",
            "HTTP Error 404: Not Found\n",
            "\n",
            "Downloading https://ossci-datasets.s3.amazonaws.com/mnist/t10k-images-idx3-ubyte.gz\n",
            "Downloading https://ossci-datasets.s3.amazonaws.com/mnist/t10k-images-idx3-ubyte.gz to ./data/MNIST/raw/t10k-images-idx3-ubyte.gz\n"
          ]
        },
        {
          "output_type": "stream",
          "name": "stderr",
          "text": [
            "100%|██████████| 1.65M/1.65M [00:00<00:00, 4.45MB/s]\n"
          ]
        },
        {
          "output_type": "stream",
          "name": "stdout",
          "text": [
            "Extracting ./data/MNIST/raw/t10k-images-idx3-ubyte.gz to ./data/MNIST/raw\n",
            "\n",
            "Downloading http://yann.lecun.com/exdb/mnist/t10k-labels-idx1-ubyte.gz\n",
            "Failed to download (trying next):\n",
            "HTTP Error 404: Not Found\n",
            "\n",
            "Downloading https://ossci-datasets.s3.amazonaws.com/mnist/t10k-labels-idx1-ubyte.gz\n",
            "Downloading https://ossci-datasets.s3.amazonaws.com/mnist/t10k-labels-idx1-ubyte.gz to ./data/MNIST/raw/t10k-labels-idx1-ubyte.gz\n"
          ]
        },
        {
          "output_type": "stream",
          "name": "stderr",
          "text": [
            "100%|██████████| 4.54k/4.54k [00:00<00:00, 5.80MB/s]"
          ]
        },
        {
          "output_type": "stream",
          "name": "stdout",
          "text": [
            "Extracting ./data/MNIST/raw/t10k-labels-idx1-ubyte.gz to ./data/MNIST/raw\n",
            "\n"
          ]
        },
        {
          "output_type": "stream",
          "name": "stderr",
          "text": [
            "\n"
          ]
        }
      ]
    },
    {
      "cell_type": "code",
      "source": [
        "# Inicializando o modelo e o otimizador\n",
        "model = SimpleCNN()\n",
        "optimizer = optim.Adam(model.parameters(), lr=0.001)"
      ],
      "metadata": {
        "id": "Glk1p-nRQiWR"
      },
      "execution_count": null,
      "outputs": []
    },
    {
      "cell_type": "code",
      "source": [
        "# Treinamento do modelo\n",
        "for epoch in range(5):  # número de épocas\n",
        "    for inputs, labels in trainloader:\n",
        "        optimizer.zero_grad()\n",
        "        outputs = model(inputs)\n",
        "        loss = nn.CrossEntropyLoss()(outputs, labels)\n",
        "        loss.backward()\n",
        "        optimizer.step()\n",
        "    print(f'Época {epoch + 1}, Perda: {loss.item()}')"
      ],
      "metadata": {
        "colab": {
          "base_uri": "https://localhost:8080/"
        },
        "id": "ldW1JK-gQu_s",
        "outputId": "05eead0e-f7f1-4c9b-fd86-0043631dbf5f"
      },
      "execution_count": null,
      "outputs": [
        {
          "output_type": "stream",
          "name": "stdout",
          "text": [
            "Época 1, Perda: 0.11838977038860321\n",
            "Época 2, Perda: 0.025715842843055725\n",
            "Época 3, Perda: 0.0035569036845117807\n",
            "Época 4, Perda: 0.0006961012841202319\n",
            "Época 5, Perda: 0.07580548524856567\n"
          ]
        }
      ]
    },
    {
      "cell_type": "code",
      "source": [
        "# Aplicando a quantização\n",
        "model.eval()\n",
        "with torch.no_grad():\n",
        "    for inputs, _ in trainloader:\n",
        "        outputs = model(inputs)\n",
        "        binary_outputs = binary_quantization(outputs)\n",
        "        ternary_outputs = ternary_quantization(outputs)\n",
        "\n",
        "# Exibindo os resultados\n",
        "print(\"Saídas binárias:\", binary_outputs)\n",
        "print(\"Saídas ternárias:\", ternary_outputs)"
      ],
      "metadata": {
        "colab": {
          "base_uri": "https://localhost:8080/"
        },
        "id": "e-53jOT3Q5gc",
        "outputId": "91daecf9-25c9-4311-e66f-e2b9c5b3dafa"
      },
      "execution_count": null,
      "outputs": [
        {
          "output_type": "stream",
          "name": "stdout",
          "text": [
            "Saídas binárias: tensor([[-1., -1., -1., -1., -1.,  1.,  1., -1.,  1.,  1.],\n",
            "        [-1., -1., -1.,  1., -1.,  1., -1., -1.,  1., -1.],\n",
            "        [ 1., -1., -1., -1., -1.,  1.,  1., -1.,  1., -1.],\n",
            "        [-1., -1., -1., -1.,  1., -1., -1., -1., -1.,  1.],\n",
            "        [-1.,  1., -1., -1.,  1., -1., -1.,  1., -1., -1.],\n",
            "        [-1., -1., -1.,  1., -1.,  1., -1., -1., -1.,  1.],\n",
            "        [-1., -1., -1., -1.,  1., -1., -1.,  1., -1.,  1.],\n",
            "        [-1.,  1., -1., -1.,  1., -1., -1., -1., -1., -1.],\n",
            "        [ 1., -1., -1., -1., -1., -1., -1., -1., -1.,  1.],\n",
            "        [-1., -1., -1., -1.,  1.,  1., -1., -1.,  1.,  1.],\n",
            "        [-1., -1., -1.,  1., -1.,  1., -1., -1., -1., -1.],\n",
            "        [-1., -1., -1.,  1., -1., -1., -1.,  1., -1.,  1.],\n",
            "        [-1., -1., -1., -1.,  1., -1., -1., -1., -1.,  1.],\n",
            "        [-1., -1., -1., -1.,  1.,  1., -1., -1., -1.,  1.],\n",
            "        [-1., -1., -1., -1.,  1., -1., -1.,  1., -1., -1.],\n",
            "        [-1., -1.,  1.,  1., -1.,  1., -1., -1.,  1.,  1.],\n",
            "        [-1.,  1., -1., -1.,  1., -1., -1., -1., -1., -1.],\n",
            "        [-1., -1., -1.,  1., -1.,  1., -1., -1.,  1.,  1.],\n",
            "        [-1., -1., -1., -1.,  1., -1., -1.,  1., -1.,  1.],\n",
            "        [ 1., -1., -1., -1., -1., -1., -1., -1., -1.,  1.],\n",
            "        [-1., -1., -1., -1., -1.,  1., -1.,  1., -1.,  1.],\n",
            "        [-1., -1., -1., -1.,  1., -1., -1.,  1.,  1.,  1.],\n",
            "        [-1., -1., -1.,  1., -1.,  1., -1., -1.,  1.,  1.],\n",
            "        [-1., -1., -1., -1.,  1., -1., -1., -1., -1.,  1.],\n",
            "        [-1., -1.,  1., -1., -1., -1., -1.,  1.,  1., -1.],\n",
            "        [-1., -1.,  1.,  1., -1., -1., -1., -1.,  1., -1.],\n",
            "        [ 1., -1.,  1.,  1., -1., -1., -1.,  1.,  1., -1.],\n",
            "        [-1., -1., -1., -1.,  1., -1., -1., -1., -1.,  1.],\n",
            "        [-1., -1., -1.,  1., -1.,  1., -1., -1.,  1.,  1.],\n",
            "        [-1.,  1., -1., -1.,  1., -1., -1., -1., -1., -1.],\n",
            "        [-1., -1., -1.,  1., -1.,  1., -1., -1., -1., -1.],\n",
            "        [-1., -1., -1.,  1., -1., -1., -1., -1.,  1., -1.]])\n",
            "Saídas ternárias: tensor([[-1., -1., -1., -1., -1.,  1.,  1., -1.,  1.,  1.],\n",
            "        [-1., -1., -1.,  1., -1.,  1., -1., -1.,  1., -1.],\n",
            "        [ 1., -1., -1., -1., -1.,  1.,  1., -1.,  1., -1.],\n",
            "        [-1., -1., -1., -1.,  1., -1., -1., -1., -1.,  1.],\n",
            "        [-1.,  1., -1., -1.,  0., -1., -1.,  1., -1., -1.],\n",
            "        [-1., -1., -1.,  1., -1.,  1., -1., -1., -1.,  1.],\n",
            "        [-1., -1., -1., -1.,  1., -1., -1.,  1., -1.,  1.],\n",
            "        [-1.,  1., -1., -1.,  1., -1., -1., -1., -1., -1.],\n",
            "        [ 1., -1.,  0., -1., -1., -1., -1., -1., -1.,  1.],\n",
            "        [-1., -1., -1., -1.,  1.,  1., -1., -1.,  1.,  1.],\n",
            "        [-1., -1., -1.,  1., -1.,  1.,  0., -1., -1., -1.],\n",
            "        [-1., -1., -1.,  1., -1., -1., -1.,  1.,  0.,  1.],\n",
            "        [-1., -1., -1., -1.,  1., -1., -1., -1., -1.,  1.],\n",
            "        [-1., -1., -1., -1.,  0.,  1., -1., -1., -1.,  1.],\n",
            "        [-1., -1., -1., -1.,  0.,  0., -1.,  1., -1., -1.],\n",
            "        [-1., -1.,  0.,  1., -1.,  1., -1., -1.,  1.,  1.],\n",
            "        [-1.,  1., -1., -1.,  1., -1.,  0., -1., -1., -1.],\n",
            "        [-1., -1., -1.,  1., -1.,  1., -1., -1.,  1.,  1.],\n",
            "        [-1., -1., -1., -1.,  1.,  0., -1.,  1., -1.,  1.],\n",
            "        [ 1., -1.,  0., -1., -1., -1., -1., -1., -1.,  1.],\n",
            "        [-1., -1., -1., -1., -1.,  1., -1.,  1., -1.,  1.],\n",
            "        [-1., -1., -1., -1.,  1., -1., -1.,  1.,  1.,  1.],\n",
            "        [-1., -1., -1.,  1., -1.,  1., -1., -1.,  1.,  1.],\n",
            "        [ 0., -1., -1., -1.,  1., -1., -1., -1., -1.,  1.],\n",
            "        [-1., -1.,  1., -1., -1., -1., -1.,  1.,  1., -1.],\n",
            "        [-1., -1.,  1.,  1., -1., -1., -1., -1.,  1., -1.],\n",
            "        [ 0., -1.,  1.,  1., -1., -1., -1.,  1.,  1., -1.],\n",
            "        [-1., -1., -1., -1.,  1., -1., -1., -1.,  0.,  1.],\n",
            "        [-1., -1., -1.,  1., -1.,  1., -1., -1.,  1.,  1.],\n",
            "        [-1.,  1., -1., -1.,  1., -1., -1., -1., -1., -1.],\n",
            "        [-1., -1., -1.,  1., -1.,  1., -1., -1., -1.,  0.],\n",
            "        [-1., -1., -1.,  1., -1., -1., -1., -1.,  1., -1.]])\n"
          ]
        }
      ]
    }
  ]
}